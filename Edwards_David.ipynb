{
 "cells": [
  {
   "cell_type": "code",
   "execution_count": 4,
   "metadata": {},
   "outputs": [],
   "source": [
    "import numpy as np\n",
    "import tensorflow.compat.v1 as tf\n",
    "import matplotlib.pyplot as plt"
   ]
  },
  {
   "cell_type": "code",
   "execution_count": 5,
   "metadata": {},
   "outputs": [],
   "source": [
    "np.random.seed(101)\n",
    "tf.set_random_seed(101)"
   ]
  },
  {
   "cell_type": "code",
   "execution_count": 6,
   "metadata": {},
   "outputs": [],
   "source": [
    "# Generating random linear data\n",
    "# There will be 50 data points ranging from 0 to 50\n",
    "x = np.linspace(0, 50, 50)\n",
    "y = np.linspace(0, 50, 50)\n",
    "\n",
    "# Adding noise to the random linear data\n",
    "x += np.random.uniform(-4, 4, 50)\n",
    "y += np.random.uniform(-4, 4, 50)\n",
    "\n",
    "n = len(x) # Number of data points"
   ]
  },
  {
   "cell_type": "code",
   "execution_count": null,
   "metadata": {},
   "outputs": [],
   "source": [
    "plt.scatter(x, y)"
   ]
  }
 ],
 "metadata": {
  "kernelspec": {
   "display_name": "Python 3.10.6 ('CSC580')",
   "language": "python",
   "name": "python3"
  },
  "language_info": {
   "codemirror_mode": {
    "name": "ipython",
    "version": 3
   },
   "file_extension": ".py",
   "mimetype": "text/x-python",
   "name": "python",
   "nbconvert_exporter": "python",
   "pygments_lexer": "ipython3",
   "version": "3.10.6"
  },
  "orig_nbformat": 4,
  "vscode": {
   "interpreter": {
    "hash": "3f5e0a3f2ef99c53bd27f827e41aeae9b1e2535b0e5f4ffdadc005d9c1a80150"
   }
  }
 },
 "nbformat": 4,
 "nbformat_minor": 2
}
